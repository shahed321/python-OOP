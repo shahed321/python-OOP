{
 "cells": [
  {
   "cell_type": "code",
   "execution_count": 3,
   "metadata": {},
   "outputs": [],
   "source": [
    "import os\n",
    "\n",
    "class FileHandler:\n",
    "    def __init__(self, filename):\n",
    "        self.file = open(filename, 'w')\n",
    "\n",
    "    def write(self, data):\n",
    "        self.file.write(data)  # Write data to the file\n",
    "\n",
    "    def __del__(self):\n",
    "        if self.file:  # Check if the file is still open\n",
    "            self.file.close()  # Close the file if open\n",
    "\n",
    "fh = FileHandler('myfile.txt')\n",
    "fh.write('This is some content.')\n"
   ]
  },
  {
   "cell_type": "code",
   "execution_count": null,
   "metadata": {},
   "outputs": [],
   "source": []
  }
 ],
 "metadata": {
  "kernelspec": {
   "display_name": "Python 3",
   "language": "python",
   "name": "python3"
  },
  "language_info": {
   "codemirror_mode": {
    "name": "ipython",
    "version": 3
   },
   "file_extension": ".py",
   "mimetype": "text/x-python",
   "name": "python",
   "nbconvert_exporter": "python",
   "pygments_lexer": "ipython3",
   "version": "3.10.12"
  }
 },
 "nbformat": 4,
 "nbformat_minor": 2
}
