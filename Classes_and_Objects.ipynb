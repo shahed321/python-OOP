{
 "cells": [
  {
   "cell_type": "code",
   "execution_count": 1,
   "metadata": {},
   "outputs": [
    {
     "name": "stdout",
     "output_type": "stream",
     "text": [
      "<class '__main__.MyClass'>\n",
      "5\n"
     ]
    }
   ],
   "source": [
    "class MyClass:\n",
    "  x = 5\n",
    "\n",
    "print(MyClass)\n",
    "print(MyClass.x)"
   ]
  },
  {
   "cell_type": "code",
   "execution_count": 1,
   "metadata": {},
   "outputs": [
    {
     "name": "stdout",
     "output_type": "stream",
     "text": [
      "blue\n",
      "The blue Honda car accelerates!\n"
     ]
    }
   ],
   "source": [
    "class Car:\n",
    "  # Define attributes (car's properties)\n",
    "  def __init__(self, color, make):\n",
    "    self.color = color\n",
    "    self.make = make\n",
    "\n",
    "  # Define methods (car's behavior)\n",
    "  def accelerate(self):\n",
    "    print(\"The\", self.color, self.make, \"car accelerates!\")\n",
    "\n",
    "# Create objects (instances) of the Car class\n",
    "my_car = Car(\"blue\", \"Honda\")\n",
    "your_car = Car(\"red\", \"Toyota\")\n",
    "\n",
    "# Access attributes and call methods on the objects\n",
    "print(my_car.color)  # Output: blue\n",
    "my_car.accelerate()  # Output: The blue Honda car accelerates!\n"
   ]
  },
  {
   "cell_type": "code",
   "execution_count": null,
   "metadata": {},
   "outputs": [],
   "source": []
  }
 ],
 "metadata": {
  "kernelspec": {
   "display_name": "Python 3",
   "language": "python",
   "name": "python3"
  },
  "language_info": {
   "codemirror_mode": {
    "name": "ipython",
    "version": 3
   },
   "file_extension": ".py",
   "mimetype": "text/x-python",
   "name": "python",
   "nbconvert_exporter": "python",
   "pygments_lexer": "ipython3",
   "version": "3.10.12"
  }
 },
 "nbformat": 4,
 "nbformat_minor": 2
}
