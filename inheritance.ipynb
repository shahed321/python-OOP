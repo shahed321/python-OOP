{
 "cells": [
  {
   "cell_type": "code",
   "execution_count": 1,
   "metadata": {},
   "outputs": [
    {
     "name": "stdout",
     "output_type": "stream",
     "text": [
      "Ali\n",
      "Khan\n"
     ]
    }
   ],
   "source": [
    "class Parent():\n",
    "    def last_name(self):\n",
    "        print(\"Khan\")\n",
    "\n",
    "\n",
    "class Child(Parent):\n",
    "    def first_name(self):\n",
    "        print(\"Ali\")\n",
    "\n",
    "myName = Child()\n",
    "myName.first_name()\n",
    "myName.last_name()"
   ]
  },
  {
   "cell_type": "code",
   "execution_count": 2,
   "metadata": {},
   "outputs": [
    {
     "name": "stdout",
     "output_type": "stream",
     "text": [
      "Ali\n",
      "Juardar\n"
     ]
    }
   ],
   "source": [
    "class Parent():\n",
    "    def last_name(self):\n",
    "        print(\"Khan\")\n",
    "\n",
    "\n",
    "class Child(Parent):\n",
    "    def first_name(self):\n",
    "        print(\"Ali\")\n",
    "\n",
    "    def last_name(self):\n",
    "        print(\"Juardar\")\n",
    "    \n",
    "\n",
    "myName = Child()\n",
    "myName.first_name()\n",
    "myName.last_name()"
   ]
  },
  {
   "cell_type": "code",
   "execution_count": null,
   "metadata": {},
   "outputs": [],
   "source": []
  }
 ],
 "metadata": {
  "kernelspec": {
   "display_name": "Python 3",
   "language": "python",
   "name": "python3"
  },
  "language_info": {
   "codemirror_mode": {
    "name": "ipython",
    "version": 3
   },
   "file_extension": ".py",
   "mimetype": "text/x-python",
   "name": "python",
   "nbconvert_exporter": "python",
   "pygments_lexer": "ipython3",
   "version": "3.10.12"
  }
 },
 "nbformat": 4,
 "nbformat_minor": 2
}
