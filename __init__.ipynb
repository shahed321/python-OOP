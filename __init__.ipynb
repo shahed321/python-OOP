{
 "cells": [
  {
   "cell_type": "code",
   "execution_count": 1,
   "metadata": {},
   "outputs": [
    {
     "name": "stdout",
     "output_type": "stream",
     "text": [
      "Tuna is ready\n",
      "I am swimming\n"
     ]
    }
   ],
   "source": [
    "class Tuna:\n",
    "    def __init__(self):\n",
    "        print('Tuna is ready')\n",
    "    def swim(self):\n",
    "        print('I am swimming')\n",
    "\n",
    "flipper = Tuna()\n",
    "flipper.swim()"
   ]
  },
  {
   "cell_type": "code",
   "execution_count": 3,
   "metadata": {},
   "outputs": [
    {
     "name": "stdout",
     "output_type": "stream",
     "text": [
      "10\n",
      "20\n"
     ]
    }
   ],
   "source": [
    "class Enemy:\n",
    "    def __init__(self, x):\n",
    "        self.energy = x\n",
    "    \n",
    "    def get_energy(self):\n",
    "        print(self.energy)\n",
    "\n",
    "jason = Enemy(10)\n",
    "sandy = Enemy(20)\n",
    "\n",
    "jason.get_energy()\n",
    "sandy.get_energy()"
   ]
  },
  {
   "cell_type": "code",
   "execution_count": null,
   "metadata": {},
   "outputs": [],
   "source": []
  }
 ],
 "metadata": {
  "kernelspec": {
   "display_name": "Python 3",
   "language": "python",
   "name": "python3"
  },
  "language_info": {
   "codemirror_mode": {
    "name": "ipython",
    "version": 3
   },
   "file_extension": ".py",
   "mimetype": "text/x-python",
   "name": "python",
   "nbconvert_exporter": "python",
   "pygments_lexer": "ipython3",
   "version": "3.10.12"
  }
 },
 "nbformat": 4,
 "nbformat_minor": 2
}
